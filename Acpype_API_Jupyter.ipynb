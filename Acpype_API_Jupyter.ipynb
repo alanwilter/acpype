{
 "cells": [
  {
   "cell_type": "markdown",
   "metadata": {},
   "source": [
    "## For calculating topologies via antechamber"
   ]
  },
  {
   "cell_type": "code",
   "execution_count": 9,
   "metadata": {},
   "outputs": [],
   "source": [
    "import acpype\n",
    "from acpype.topol import ACTopol, MolTopol\n",
    "from glob import glob"
   ]
  },
  {
   "cell_type": "markdown",
   "metadata": {},
   "source": [
    "Directory where the Ligand.acpype folder will be saved"
   ]
  },
  {
   "cell_type": "code",
   "execution_count": 10,
   "metadata": {},
   "outputs": [
    {
     "name": "stdout",
     "output_type": "stream",
     "text": [
      "2021.12.14\n"
     ]
    },
    {
     "data": {
      "text/plain": [
       "['tests/DDD.pdb',\n",
       " 'tests/dmp.pdb',\n",
       " 'tests/FFF.pdb',\n",
       " 'tests/AAA.pdb',\n",
       " 'tests/benzene.pdb',\n",
       " 'tests/KKK.pdb']"
      ]
     },
     "execution_count": 10,
     "metadata": {},
     "output_type": "execute_result"
    }
   ],
   "source": [
    "print(acpype.__version__)\n",
    "glob(\"tests/*.pdb\")"
   ]
  },
  {
   "cell_type": "code",
   "execution_count": 11,
   "metadata": {},
   "outputs": [
    {
     "name": "stdout",
     "output_type": "stream",
     "text": [
      "WARNING: no charge value given, trying to guess one...\n",
      "==> ... charge set to 0\n"
     ]
    }
   ],
   "source": [
    "molecule = ACTopol(\"tests/dmp.pdb\", chargeType=\"gas\")"
   ]
  },
  {
   "cell_type": "code",
   "execution_count": 12,
   "metadata": {},
   "outputs": [
    {
     "name": "stdout",
     "output_type": "stream",
     "text": [
      "==> ... converting pdb input file to mol2 input file\n",
      "==> * Babel OK *\n",
      "==> Executing Antechamber...\n",
      "==> * Antechamber OK *\n",
      "==> * Parmchk OK *\n",
      "==> Executing Tleap...\n",
      "++++++++++start_quote+++++++++++++++++++++++++++++++++++++++++++++++++++++++++++\n",
      "Checking 'DMP'....\n",
      "Checking parameters for unit 'DMP'.\n",
      "Checking for bond parameters.\n",
      "Checking for angle parameters.\n",
      "Unit is OK.\n",
      "++++++++++end_quote+++++++++++++++++++++++++++++++++++++++++++++++++++++++++++++\n",
      "==> * Tleap OK *\n",
      "==> Removing temporary files...\n"
     ]
    }
   ],
   "source": [
    "molecule.createACTopol()"
   ]
  },
  {
   "cell_type": "code",
   "execution_count": 13,
   "metadata": {},
   "outputs": [
    {
     "name": "stdout",
     "output_type": "stream",
     "text": [
      "==> Using OpenBabel v.3.1.0\n",
      "\n",
      "==> Writing NEW PDB file\n",
      "\n",
      "==> Writing CNS/XPLOR files\n",
      "\n",
      "==> Writing GROMACS files\n",
      "\n",
      "==> Disambiguating lower and uppercase atomtypes in GMX top file, even if identical.\n",
      "\n",
      "==> Writing GMX dihedrals for GMX 4.5 and higher.\n",
      "\n",
      "==> Writing CHARMM files\n",
      "\n",
      "==> Writing pickle file dmp.pkl\n",
      "==> Removing temporary files...\n"
     ]
    }
   ],
   "source": [
    "molecule.createMolTopol()"
   ]
  },
  {
   "cell_type": "markdown",
   "metadata": {},
   "source": [
    "## For an example of ACPYPE amb2gmx feature:"
   ]
  },
  {
   "cell_type": "code",
   "execution_count": 14,
   "metadata": {},
   "outputs": [
    {
     "name": "stdout",
     "output_type": "stream",
     "text": [
      "DEBUG: prmtop and inpcrd files loaded\n",
      "DEBUG: basename defined = 'glycam_exe'\n",
      "DEBUG: getCoords done\n",
      "DEBUG: getABCOEFs done\n",
      "DEBUG: charge to be balanced: total -0.0000000000\n",
      "DEBUG: balanceCharges done\n",
      "DEBUG: Balanced TotalCharge -0.0000000000\n",
      "DEBUG: PBC = None\n",
      "DEBUG: getAtoms done\n",
      "DEBUG: getBonds done\n",
      "DEBUG: getAngles done\n",
      "DEBUG: getDihedrals done\n"
     ]
    }
   ],
   "source": [
    "mol = MolTopol(acFileXyz=\"tests/glycam_exe.inpcrd\", acFileTop=\"tests/glycam_exe.prmtop\", debug=True, amb2gmx=True)"
   ]
  },
  {
   "cell_type": "code",
   "execution_count": 15,
   "metadata": {},
   "outputs": [
    {
     "name": "stdout",
     "output_type": "stream",
     "text": [
      "==> Writing GROMACS files\n",
      "\n",
      "==> Disambiguating lower and uppercase atomtypes in GMX top file, even if identical.\n",
      "\n",
      "DEBUG: writing GRO file\n",
      "DEBUG: Box size estimated\n",
      "DEBUG: writing POSRE file\n",
      "DEBUG: atomTypes 11\n",
      "DEBUG: GMX atomtypes done\n",
      "DEBUG: atoms 30\n",
      "DEBUG: GMX atoms done\n",
      "DEBUG: bonds 30\n",
      "DEBUG: GMX bonds done\n",
      "DEBUG: atomPairs 76\n",
      "DEBUG: GMX pairs done\n",
      "DEBUG: angles 53\n",
      "DEBUG: GMX angles done\n",
      "DEBUG: setProperDihedralsCoef done\n",
      "DEBUG: properDihedralsCoefRB 79\n",
      "DEBUG: properDihedralsAlphaGamma 0\n",
      "DEBUG: properDihedralsGmx45 87\n",
      "==> Writing GMX dihedrals for GMX 4.5 and higher.\n",
      "\n",
      "DEBUG: GMX special proper dihedrals done\n",
      "DEBUG: improperDihedrals 2\n",
      "DEBUG: GMX improper dihedrals done\n",
      "==> Non-default 1-4 scale parameters detected. Converting individually. Please cite:\n",
      "\n",
      " BERNARDI, A., FALLER, R., REITH, D., and KIRSCHNER, K. N. ACPYPE update for\n",
      " nonuniform 1-4 scale factors: Conversion of the GLYCAM06 force field from AMBER\n",
      " to GROMACS. SoftwareX 10 (2019), 100241. doi: 10.1016/j.softx.2019.100241\"\n",
      "\n"
     ]
    }
   ],
   "source": [
    "mol.writeGromacsTopolFiles()"
   ]
  },
  {
   "cell_type": "markdown",
   "metadata": {},
   "source": [
    "### Easter egg!\n",
    "Yep, it's possible to convert to CNS system from Amber *prmtop* and *inpcrd* files."
   ]
  },
  {
   "cell_type": "code",
   "execution_count": 16,
   "metadata": {},
   "outputs": [
    {
     "name": "stdout",
     "output_type": "stream",
     "text": [
      "==> Writing NEW PDB file\n",
      "\n",
      "==> Writing CNS/XPLOR files\n",
      "\n"
     ]
    }
   ],
   "source": [
    "mol.writeCnsTopolFiles()"
   ]
  }
 ],
 "metadata": {
  "kernelspec": {
   "display_name": "Python 3",
   "language": "python",
   "name": "python3"
  },
  "language_info": {
   "codemirror_mode": {
    "name": "ipython",
    "version": 3
   },
   "file_extension": ".py",
   "mimetype": "text/x-python",
   "name": "python",
   "nbconvert_exporter": "python",
   "pygments_lexer": "ipython3",
   "version": "3.9.7"
  }
 },
 "nbformat": 4,
 "nbformat_minor": 4
}
